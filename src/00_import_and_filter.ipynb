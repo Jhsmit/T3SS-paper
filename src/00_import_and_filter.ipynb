{
 "cells": [
  {
   "cell_type": "code",
   "execution_count": null,
   "metadata": {
    "collapsed": true
   },
   "outputs": [],
   "source": [
    "import matplotlib.pyplot as plt\n",
    "from colicoords import save, CellPlot, CellListPlot, load, CellList, iter_subplots, IterCellPlot\n",
    "import numpy as np\n",
    "import os\n",
    "from addict import Dict\n",
    "import h5py\n",
    "import multiprocessing as mp\n",
    "from functools import partial\n",
    "from functools import reduce\n",
    "import operator\n",
    "from matplotlib.lines import Line2D\n",
    "import time\n",
    "from dask.distributed import Client"
   ]
  },
  {
   "cell_type": "code",
   "execution_count": null,
   "outputs": [],
   "source": [
    "basedir = r'../src_data'"
   ],
   "metadata": {
    "collapsed": false,
    "pycharm": {
     "name": "#%%\n"
    }
   }
  },
  {
   "cell_type": "code",
   "execution_count": null,
   "outputs": [],
   "source": [
    "client = Client('127.0.0.1:8786')\n",
    "client\n"
   ],
   "metadata": {
    "collapsed": false,
    "pycharm": {
     "name": "#%%\n"
    }
   }
  },
  {
   "cell_type": "code",
   "execution_count": null,
   "outputs": [],
   "source": [
    "t0 = time.time()\n",
    "d = Dict()\n",
    "\n",
    "# repeat 01\n",
    "c41 = load(os.path.join(basedir, '20190930_yichen_deltaescv_c41_eyfp_escv_repeat_01', 'c41_with_spots.hdf5'))\n",
    "epec = load(os.path.join(basedir, '20190930_yichen_deltaescv_c41_eyfp_escv_repeat_01', 'epec_with_spots.hdf5'))\n",
    "d['20190930'].c41 = c41\n",
    "d['20190930'].epec = epec\n",
    "print('r1')\n",
    "\n",
    "# repeat 02\n",
    "c41 = load(os.path.join(basedir, '20191001_yichen_deltaescv_c41_eyfp_escv_repeat_02', 'c41_with_spots.hdf5'))\n",
    "epec = load(os.path.join(basedir, '20191001_yichen_deltaescv_c41_eyfp_escv_repeat_02', 'epec_with_spots.hdf5'))\n",
    "d['20191001'].c41 = c41\n",
    "d['20191001'].epec = epec\n",
    "print('r2')\n",
    "# repeat 03\n",
    "c41 = load(os.path.join(basedir, '20191002_yichen_deltaescv_c41_eyfp_escv_repeat_03', 'c41_with_spots.hdf5'))\n",
    "epec = load(os.path.join(basedir, '20191002_yichen_deltaescv_c41_eyfp_escv_repeat_03', 'epec_with_spots.hdf5'))\n",
    "d['20191002_03'].c41 = c41\n",
    "d['20191002_03'].epec = epec\n",
    "print('r3')\n",
    "#repeat 04\n",
    "c41 = load(os.path.join(basedir, '20191002_yichen_deltaescv_c41_eyfp_escv_repeat_04', 'c41_with_spots.hdf5'))\n",
    "epec = load(os.path.join(basedir, '20191002_yichen_deltaescv_c41_eyfp_escv_repeat_04', 'epec_with_spots.hdf5'))\n",
    "escc = load(os.path.join(basedir, '20191002_yichen_deltaescv_c41_eyfp_escv_repeat_04', 'escc_with_spots.hdf5'))\n",
    "d['20191002_04'].c41 = c41\n",
    "d['20191002_04'].epec = epec\n",
    "d['20191002_04'].escc = escc\n",
    "print('r4')\n",
    "\n",
    "f = Dict()\n",
    "\n",
    "# AHT 40\n",
    "c41_02 = load(os.path.join(basedir, '20191004_c41_eyfp-escv_AHT40_repeats', 'c41_02_with_spots.hdf5'))\n",
    "c41_03 = load(os.path.join(basedir, '20191004_c41_eyfp-escv_AHT40_repeats', 'c41_03_with_spots.hdf5'))\n",
    "f.aht40['20191004_02'].c41 = c41_02\n",
    "f.aht40['20191004_03'].c41 = c41_03\n",
    "print('40')\n",
    "\n",
    "# AHT 30\n",
    "c41_02 = load(os.path.join(basedir, '20191005_c41_eyfp-escv_AHT30_repeats', 'c41_02_with_spots.hdf5'))\n",
    "c41_03 = load(os.path.join(basedir, '20191005_c41_eyfp-escv_AHT30_repeats', 'c41_03_with_spots.hdf5'))\n",
    "f.aht30['20191005_02'].c41 = c41_02\n",
    "f.aht30['20191005_03'].c41 = c41_03\n",
    "print('30')\n",
    "f.aht20 = d\n",
    "\n",
    "# AHT 30\n",
    "c41_01 = load(os.path.join(basedir, '20191009_yichen_c41_eyfp-escv_AHT30_agarose_medium_repeats', 'c41_01_with_spots.hdf5'))\n",
    "c41_02 = load(os.path.join(basedir, '20191009_yichen_c41_eyfp-escv_AHT30_agarose_medium_repeats', 'c41_02_with_spots.hdf5'))\n",
    "f.aht30['20191009_01'].c41 = c41_01\n",
    "f.aht30['20191009_02'].c41 = c41_02\n",
    "print('30_1')\n",
    "\n",
    "# AHT 25\n",
    "c41_01 = load(os.path.join(basedir, '20191010_yichen_c41_eyfp-escv_AHT25_agarose_medium_repeats', 'c41_01_with_spots.hdf5'))\n",
    "c41_02 = load(os.path.join(basedir, '20191010_yichen_c41_eyfp-escv_AHT25_agarose_medium_repeats', 'c41_02_with_spots.hdf5'))\n",
    "c41_03 = load(os.path.join(basedir, '20191010_yichen_c41_eyfp-escv_AHT25_agarose_medium_repeats', 'c41_03_with_spots.hdf5'))\n",
    "f.aht25['20191010_01'].c41 = c41_01\n",
    "f.aht25['20191010_02'].c41 = c41_02\n",
    "f.aht25['20191010_03'].c41 = c41_03\n",
    "\n",
    "#AHT 20\n",
    "epec_aht20 = load(os.path.join(basedir, '20191022_deltaescv_eyfp-escv_aht20', 'epec_yfp-escv_aht20_with_spots.hdf5'))\n",
    "f.aht30['20191022'].epec = epec_aht20  #EPEC!!!\n",
    "\n",
    "#AHT 25/20 RSTU\n",
    "c41_aht20 = load(os.path.join(basedir, '20191023_c41_eyfp-escv_escrstu_AHT25', 'c41_yfp-escv_aht20with_spots.hdf5'))\n",
    "f.aht20['20191023'].c41 = c41_aht20\n",
    "\n",
    "c41_aht25 = load(os.path.join(basedir, '20191023_c41_eyfp-escv_escrstu_AHT25', 'c41_yfp-escv_aht25with_spots.hdf5'))\n",
    "f.aht25['20191023'].c41 = c41_aht25\n",
    "\n",
    "t1 =  time.time()\n",
    "\n",
    "print(t1 - t0)\n",
    "\n",
    "f"
   ],
   "metadata": {
    "collapsed": false,
    "pycharm": {
     "name": "#%%\n"
    }
   }
  },
  {
   "cell_type": "code",
   "execution_count": null,
   "outputs": [],
   "source": [
    "def zscore(d):\n",
    "    return (d - d.mean()) / d.std()\n",
    "\n",
    "def filter_cells(cells, cell_type, area_min=350, chisq_max=0.001):\n",
    "    cells = cells.copy()\n",
    "\n",
    "    #filter by radius\n",
    "    cells.measure_r(mode='mid', data_name='brightfield')\n",
    "    if cell_type=='c41':\n",
    "        rmin=3.5041735933766798\n",
    "        rmax=5.46023075024\n",
    "    elif cell_type=='epec':\n",
    "        rmin=5.83941563572067\n",
    "        rmax=7.102502047477\n",
    "    else:\n",
    "        print('EMPTY')\n",
    "        return CellList([])\n",
    "\n",
    "    r = cells.radius\n",
    "    bmin = r > rmin\n",
    "    bmax = r < rmax\n",
    "    b = np.logical_and(bmin, bmax)\n",
    "\n",
    "    print('Removed {} by radius'.format(np.sum(~b)))\n",
    "    cells = cells[b]\n",
    "\n",
    "    #filter by area\n",
    "    b = cells.area > area_min\n",
    "    print('Removed {} by area'.format(np.sum(~b)))\n",
    "    cells = cells[b]\n",
    "\n",
    "    #filter by brightfield radial distribution\n",
    "    xv, yv = cells.r_dist(3, 0.2, data_name='brightfield', norm_x=True)\n",
    "    means = np.mean(yv, axis=1)\n",
    "    normed = yv / means[:, np.newaxis]\n",
    "\n",
    "    overall_mean = normed.mean(axis=0)\n",
    "    chisq = np.mean((overall_mean - normed)**2, axis=1)\n",
    "\n",
    "    b = chisq < chisq_max\n",
    "    print('Removed {} by brightfield shape'.format(np.sum(~b)))\n",
    "\n",
    "    means = np.mean(yv[b], axis=1)\n",
    "    normed = yv[b] / means[:, np.newaxis]\n",
    "\n",
    "    overall_mean = normed.mean(axis=0)\n",
    "    chisq = np.mean((overall_mean - normed)**2, axis=1)\n",
    "\n",
    "    b1 = chisq < chisq_max\n",
    "    print('Removed {} by brightfield shape 1'.format(np.sum(~b1)))\n",
    "\n",
    "    cells = cells[b][b1]\n",
    "\n",
    "    _int = cells.get_intensity(data_name='g500')\n",
    "    b = _int < 50000\n",
    "    cells = cells[b]\n",
    "    print('Removed {} by intensity'.format(np.sum(~b)))\n",
    "\n",
    "    num_pix_70k = np.array([np.sum(c.data.data_dict['g500'] > 70000) for c in cells])\n",
    "    b = num_pix_70k < 50\n",
    "    nc = cells[~b]\n",
    "    cells = cells[b]\n",
    "    print('Removed {} by pixels intensity'.format(np.sum(~b)))\n",
    "\n",
    "    return cells\n"
   ],
   "metadata": {
    "collapsed": false,
    "pycharm": {
     "name": "#%%\n"
    }
   }
  },
  {
   "cell_type": "code",
   "execution_count": null,
   "outputs": [],
   "source": [
    "def worker(cells, k, dst):\n",
    "    filtered = filter_cells(cells, k)\n",
    "    save(dst + '.hdf5', cells)\n",
    "    save(dst + '_filtered.hdf5', filtered)\n",
    "\n",
    "    return filtered"
   ],
   "metadata": {
    "collapsed": false,
    "pycharm": {
     "name": "#%%\n"
    }
   }
  },
  {
   "cell_type": "code",
   "execution_count": null,
   "outputs": [],
   "source": [
    "def r_dict(d, d_out, path):\n",
    "    pth = os.path.join(*path)\n",
    "    if not os.path.exists(pth):\n",
    "        os.mkdir(pth)\n",
    "    for k, v in d.items():\n",
    "        if isinstance(v, Dict):\n",
    "            r_dict(v, d_out, path + [k])\n",
    "        else:\n",
    "            print(path, k)\n",
    "            dst = os.path.join(pth, k + '.hdf5')\n",
    "            save(dst, v)\n",
    "\n",
    "            filtered = filter_cells(v, k)\n",
    "            parent = reduce(operator.getitem, path[1:], d_out)\n",
    "            parent[k + '_filtered'] = filtered\n",
    "            dst_f = os.path.join(pth, k + '_filtered.hdf5')\n",
    "            save(dst_f, filtered)"
   ],
   "metadata": {
    "collapsed": false,
    "pycharm": {
     "name": "#%%\n"
    }
   }
  },
  {
   "cell_type": "code",
   "execution_count": null,
   "outputs": [],
   "source": [
    "def r_dict_save(d, path):\n",
    "    pth = os.path.join(*path)\n",
    "    if not os.path.exists(pth):\n",
    "        os.mkdir(pth)\n",
    "    for k, v in d.items():\n",
    "        if isinstance(v, Dict):\n",
    "            yield from r_dict_save(v, path + [k])\n",
    "        else:\n",
    "            print(path, k)\n",
    "            dst = os.path.join(pth, k)\n",
    "            c= client.submit(worker, v, k, dst)\n",
    "            yield c"
   ],
   "metadata": {
    "collapsed": false,
    "pycharm": {
     "name": "#%%\n"
    }
   }
  },
  {
   "cell_type": "code",
   "execution_count": null,
   "outputs": [],
   "source": [
    "r_dict_save(f, ['root_20191213'])\n"
   ],
   "metadata": {
    "collapsed": false,
    "pycharm": {
     "name": "#%%\n"
    }
   }
  }
 ],
 "metadata": {
  "kernelspec": {
   "display_name": "Python 3",
   "language": "python",
   "name": "python3"
  },
  "language_info": {
   "codemirror_mode": {
    "name": "ipython",
    "version": 2
   },
   "file_extension": ".py",
   "mimetype": "text/x-python",
   "name": "python",
   "nbconvert_exporter": "python",
   "pygments_lexer": "ipython2",
   "version": "2.7.6"
  }
 },
 "nbformat": 4,
 "nbformat_minor": 0
}