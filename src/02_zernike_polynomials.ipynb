{
 "cells": [
  {
   "cell_type": "markdown",
   "source": [
    "Input Folder: 'final_cells'\n",
    "Output Folder: 'filter_peaks'\n",
    "\n",
    "Filters detected peaks/blobs by thresholding on Zernike moments"
   ],
   "metadata": {
    "collapsed": false,
    "pycharm": {
     "name": "#%% md\n"
    }
   }
  },
  {
   "cell_type": "code",
   "execution_count": null,
   "metadata": {
    "collapsed": true
   },
   "outputs": [],
   "source": [
    "import mahotas as mh\n",
    "import numpy as np\n",
    "import seaborn as sns\n",
    "from colicoords import save, load\n",
    "from dask.distributed import Client\n",
    "from tqdm.auto import tqdm\n",
    "from pathlib import Path\n",
    "sns.set_style('ticks')\n"
   ]
  },
  {
   "cell_type": "code",
   "execution_count": null,
   "outputs": [],
   "source": [
    "client = Client('127.0.0.1:8786')\n",
    "client"
   ],
   "metadata": {
    "collapsed": false,
    "pycharm": {
     "name": "#%%\n"
    }
   }
  },
  {
   "cell_type": "code",
   "execution_count": null,
   "outputs": [],
   "source": [
    "d = Path('../data/final_cells').resolve()\n",
    "files =[f for f in d.iterdir()]"
   ],
   "metadata": {
    "collapsed": false,
    "pycharm": {
     "name": "#%%\n"
    }
   }
  },
  {
   "cell_type": "code",
   "execution_count": null,
   "outputs": [],
   "source": [
    "def worker(fpath):\n",
    "    cells = load(fpath)\n",
    "    return {fpath.stem: cells}"
   ],
   "metadata": {
    "collapsed": false,
    "pycharm": {
     "name": "#%%\n"
    }
   }
  },
  {
   "cell_type": "code",
   "execution_count": null,
   "outputs": [],
   "source": [
    "dict_list = client.map(worker, files)"
   ],
   "metadata": {
    "collapsed": false,
    "pycharm": {
     "name": "#%%\n"
    }
   }
  },
  {
   "cell_type": "code",
   "execution_count": null,
   "outputs": [],
   "source": [
    "out = client.gather(dict_list)\n",
    "out"
   ],
   "metadata": {
    "collapsed": false,
    "pycharm": {
     "name": "#%%\n"
    }
   }
  },
  {
   "cell_type": "code",
   "execution_count": null,
   "outputs": [],
   "source": [
    "peak_cells = {k: v for d in out for k, v in d.items()}"
   ],
   "metadata": {
    "collapsed": false,
    "pycharm": {
     "name": "#%%\n"
    }
   }
  },
  {
   "cell_type": "code",
   "execution_count": null,
   "outputs": [],
   "source": [
    "def yield_peaks(cell, *args):\n",
    "    # yields a 2k x 2x img slice around each detected peak\n",
    "    k = args[0]\n",
    "    xarr, yarr = cell.data.data_dict['new_thd_7500']['x'], cell.data.data_dict['new_thd_7500']['y']\n",
    "    im = cell.data.data_dict['flu_mf']\n",
    "\n",
    "    for x, y in zip(xarr, yarr):\n",
    "        x = int(x)\n",
    "        y = int(y)\n",
    "        sel = im[y-k+1:y+k, x-k+1:x+k]\n",
    "        yield sel\n",
    "\n",
    "def yield_pole_pos(cell, *args):\n",
    "    xarr, yarr = cell.data.data_dict['new_thd_7500']['x'], cell.data.data_dict['new_thd_7500']['y']\n",
    "    for x, y in zip(xarr, yarr):\n",
    "        lc, rc, phi = cell.coords.transform(x, y)\n",
    "        if lc == 0 or lc == cell.length:\n",
    "            yield True\n",
    "        else:\n",
    "            yield False\n",
    "\n",
    "def yield_from_cells(cells, func, *args):\n",
    "    for c in cells:\n",
    "        yield from func(c, *args)\n",
    "\n",
    "def yield_from_dict(dic, func, *args):\n",
    "    for key, v in dic.items():\n",
    "        yield from yield_from_cells(v, func, *args)"
   ],
   "metadata": {
    "collapsed": false,
    "pycharm": {
     "name": "#%%\n"
    }
   }
  },
  {
   "cell_type": "code",
   "execution_count": null,
   "outputs": [],
   "source": [
    "list(peak_cells.keys())"
   ],
   "metadata": {
    "collapsed": false,
    "pycharm": {
     "name": "#%%\n"
    }
   }
  },
  {
   "cell_type": "code",
   "execution_count": null,
   "outputs": [],
   "source": [
    "#filter peaks by thresholding their zernike moments of the 4th degree zernike polynomials\n",
    "new_dict = {}\n",
    "for k, v in peak_cells.items():\n",
    "    c_copy = v.copy()\n",
    "\n",
    "    for cell in tqdm(c_copy, desc=k):\n",
    "        storm = cell.data.data_dict['new_thd_7500']\n",
    "        imgs = np.array([im for im in yield_peaks(cell, 4)])\n",
    "        if len(imgs) == 0:\n",
    "            storm_yes = storm\n",
    "            storm_no = storm\n",
    "        else:\n",
    "            zs = np.array([mh.features.zernike_moments(im, 4, degree=4, cm=(3,3)) for im in imgs])\n",
    "            b = zs.T[2] > 0.4\n",
    "            storm_yes = storm[b]\n",
    "            storm_no = storm[~b]\n",
    "\n",
    "        cell.data.add_data(storm_yes, 'storm', 'st_yes')\n",
    "        cell.data.add_data(storm_no, 'storm', 'st_no')\n",
    "\n",
    "    new_dict[k] = c_copy"
   ],
   "metadata": {
    "collapsed": false,
    "pycharm": {
     "name": "#%%\n"
    }
   }
  },
  {
   "cell_type": "code",
   "execution_count": null,
   "outputs": [],
   "source": [
    "for k, v in new_dict.items():\n",
    "    save('filter_peaks/' + k + '.hdf5', v)"
   ],
   "metadata": {
    "collapsed": false,
    "pycharm": {
     "name": "#%%\n"
    }
   }
  }
 ],
 "metadata": {
  "kernelspec": {
   "display_name": "Python 3",
   "language": "python",
   "name": "python3"
  },
  "language_info": {
   "codemirror_mode": {
    "name": "ipython",
    "version": 2
   },
   "file_extension": ".py",
   "mimetype": "text/x-python",
   "name": "python",
   "nbconvert_exporter": "python",
   "pygments_lexer": "ipython2",
   "version": "2.7.6"
  }
 },
 "nbformat": 4,
 "nbformat_minor": 0
}