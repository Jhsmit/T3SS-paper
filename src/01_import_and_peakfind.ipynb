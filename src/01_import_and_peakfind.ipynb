{
 "cells": [
  {
   "cell_type": "markdown",
   "source": [
    "Input Folder: root_20191213\n",
    "Output Folder: final_cells\n",
    "\n",
    "Import cell data and filters datasets on total fluorescence/expression level\n",
    "\n",
    "Applies peakfinding on the 'g500' (fluorescence image with gain500) datadata with threshold 7500 and\n",
    "adds it to the cells as 'storm' dataset with name 'storm_thd_7500'"
   ],
   "metadata": {
    "collapsed": false,
    "pycharm": {
     "name": "#%% md\n"
    }
   }
  },
  {
   "cell_type": "code",
   "execution_count": 1,
   "metadata": {
    "collapsed": true
   },
   "outputs": [],
   "source": [
    "import operator\n",
    "import os\n",
    "from collections import namedtuple\n",
    "from functools import reduce\n",
    "\n",
    "import numpy as np\n",
    "import seaborn as sns\n",
    "from addict import Dict\n",
    "from colicoords import save\n",
    "from dask.distributed import Client\n",
    "from scipy.signal import medfilt\n",
    "from skimage.feature import peak_local_max\n",
    "\n",
    "from base_funcs import load_dirs_to_dict\n",
    "sns.set_style('ticks')"
   ]
  },
  {
   "cell_type": "code",
   "execution_count": 2,
   "outputs": [
    {
     "data": {
      "text/plain": "<Client: 'tcp://127.0.0.1:8786' processes=6 threads=12, memory=31.88 GiB>",
      "text/html": "<div>\n    <div style=\"width: 24px; height: 24px; background-color: #e1e1e1; border: 3px solid #9D9D9D; border-radius: 5px; position: absolute;\"> </div>\n    <div style=\"margin-left: 48px;\">\n        <h3 style=\"margin-bottom: 0px;\">Client</h3>\n        <p style=\"color: #9D9D9D; margin-bottom: 0px;\">Client-a7886158-438c-11ec-8088-04ed33c94a04</p>\n        <table style=\"width: 100%; text-align: left;\">\n\n        <tr>\n        \n            <td style=\"text-align: left;\"><strong>Connection method:</strong> Direct</td>\n            <td style=\"text-align: left;\"></td>\n        \n        </tr>\n\n        \n            <tr>\n                <td style=\"text-align: left;\">\n                    <strong>Dashboard: </strong> <a href=\"http://127.0.0.1:8787/status\" target=\"_blank\">http://127.0.0.1:8787/status</a>\n                </td>\n                <td style=\"text-align: left;\"></td>\n            </tr>\n        \n\n        </table>\n\n        \n            <details>\n            <summary style=\"margin-bottom: 20px;\"><h3 style=\"display: inline;\">Scheduler Info</h3></summary>\n            <div style=\"\">\n    <div>\n        <div style=\"width: 24px; height: 24px; background-color: #FFF7E5; border: 3px solid #FF6132; border-radius: 5px; position: absolute;\"> </div>\n        <div style=\"margin-left: 48px;\">\n            <h3 style=\"margin-bottom: 0px;\">Scheduler</h3>\n            <p style=\"color: #9D9D9D; margin-bottom: 0px;\">Scheduler-76d16b0c-2c87-40f7-bd20-a64038a8ae4f</p>\n            <table style=\"width: 100%; text-align: left;\">\n                <tr>\n                    <td style=\"text-align: left;\">\n                        <strong>Comm:</strong> tcp://127.0.0.1:8786\n                    </td>\n                    <td style=\"text-align: left;\">\n                        <strong>Workers:</strong> 6\n                    </td>\n                </tr>\n                <tr>\n                    <td style=\"text-align: left;\">\n                        <strong>Dashboard:</strong> <a href=\"http://127.0.0.1:8787/status\" target=\"_blank\">http://127.0.0.1:8787/status</a>\n                    </td>\n                    <td style=\"text-align: left;\">\n                        <strong>Total threads:</strong> 12\n                    </td>\n                </tr>\n                <tr>\n                    <td style=\"text-align: left;\">\n                        <strong>Started:</strong> 16 hours ago\n                    </td>\n                    <td style=\"text-align: left;\">\n                        <strong>Total memory:</strong> 31.88 GiB\n                    </td>\n                </tr>\n            </table>\n        </div>\n    </div>\n\n    <details style=\"margin-left: 48px;\">\n        <summary style=\"margin-bottom: 20px;\">\n            <h3 style=\"display: inline;\">Workers</h3>\n        </summary>\n\n        \n        <div style=\"margin-bottom: 20px;\">\n            <div style=\"width: 24px; height: 24px; background-color: #DBF5FF; border: 3px solid #4CC9FF; border-radius: 5px; position: absolute;\"> </div>\n            <div style=\"margin-left: 48px;\">\n            <details>\n                <summary>\n                    <h4 style=\"margin-bottom: 0px; display: inline;\">Worker: 0</h4>\n                </summary>\n                <table style=\"width: 100%; text-align: left;\">\n                    <tr>\n                        <td style=\"text-align: left;\">\n                            <strong>Comm: </strong> tcp://127.0.0.1:63862\n                        </td>\n                        <td style=\"text-align: left;\">\n                            <strong>Total threads: </strong> 2\n                        </td>\n                    </tr>\n                    <tr>\n                        <td style=\"text-align: left;\">\n                            <strong>Dashboard: </strong> <a href=\"http://127.0.0.1:63863/status\" target=\"_blank\">http://127.0.0.1:63863/status</a>\n                        </td>\n                        <td style=\"text-align: left;\">\n                            <strong>Memory: </strong> 5.31 GiB\n                        </td>\n                    </tr>\n                    <tr>\n                        <td style=\"text-align: left;\">\n                            <strong>Nanny: </strong> tcp://127.0.0.1:63827\n                        </td>\n                        <td style=\"text-align: left;\"></td>\n                    </tr>\n                    <tr>\n                        <td colspan=\"2\" style=\"text-align: left;\">\n                            <strong>Local directory: </strong> C:\\Users\\jhsmi\\pp\\T3SS-paper\\src\\dask-worker-space\\worker-sov82sx7\n                        </td>\n                    </tr>\n\n                    \n\n                    \n                    <tr>\n                        <td style=\"text-align: left;\">\n                            <strong>Tasks executing: </strong> 0\n                        </td>\n                        <td style=\"text-align: left;\">\n                            <strong>Tasks in memory: </strong> 0\n                        </td>\n                    </tr>\n                    <tr>\n                        <td style=\"text-align: left;\">\n                            <strong>Tasks ready: </strong> 0\n                        </td>\n                        <td style=\"text-align: left;\">\n                            <strong>Tasks in flight: </strong>0\n                        </td>\n                    </tr>\n                    <tr>\n                        <td style=\"text-align: left;\">\n                            <strong>CPU usage:</strong> 0.0%\n                        </td>\n                        <td style=\"text-align: left;\">\n                            <strong>Last seen: </strong> Just now\n                        </td>\n                    </tr>\n                    <tr>\n                        <td style=\"text-align: left;\">\n                            <strong>Memory usage: </strong> 299.92 MiB\n                        </td>\n                        <td style=\"text-align: left;\">\n                            <strong>Spilled bytes: </strong> 0 B\n                        </td>\n                    </tr>\n                    <tr>\n                        <td style=\"text-align: left;\">\n                            <strong>Read bytes: </strong> 0.0 B\n                        </td>\n                        <td style=\"text-align: left;\">\n                            <strong>Write bytes: </strong> 0.0 B\n                        </td>\n                    </tr>\n                    \n\n                </table>\n            </details>\n            </div>\n        </div>\n        \n        <div style=\"margin-bottom: 20px;\">\n            <div style=\"width: 24px; height: 24px; background-color: #DBF5FF; border: 3px solid #4CC9FF; border-radius: 5px; position: absolute;\"> </div>\n            <div style=\"margin-left: 48px;\">\n            <details>\n                <summary>\n                    <h4 style=\"margin-bottom: 0px; display: inline;\">Worker: 1</h4>\n                </summary>\n                <table style=\"width: 100%; text-align: left;\">\n                    <tr>\n                        <td style=\"text-align: left;\">\n                            <strong>Comm: </strong> tcp://127.0.0.1:63865\n                        </td>\n                        <td style=\"text-align: left;\">\n                            <strong>Total threads: </strong> 2\n                        </td>\n                    </tr>\n                    <tr>\n                        <td style=\"text-align: left;\">\n                            <strong>Dashboard: </strong> <a href=\"http://127.0.0.1:63866/status\" target=\"_blank\">http://127.0.0.1:63866/status</a>\n                        </td>\n                        <td style=\"text-align: left;\">\n                            <strong>Memory: </strong> 5.31 GiB\n                        </td>\n                    </tr>\n                    <tr>\n                        <td style=\"text-align: left;\">\n                            <strong>Nanny: </strong> tcp://127.0.0.1:63828\n                        </td>\n                        <td style=\"text-align: left;\"></td>\n                    </tr>\n                    <tr>\n                        <td colspan=\"2\" style=\"text-align: left;\">\n                            <strong>Local directory: </strong> C:\\Users\\jhsmi\\pp\\T3SS-paper\\src\\dask-worker-space\\worker-y74c8k3q\n                        </td>\n                    </tr>\n\n                    \n\n                    \n                    <tr>\n                        <td style=\"text-align: left;\">\n                            <strong>Tasks executing: </strong> 0\n                        </td>\n                        <td style=\"text-align: left;\">\n                            <strong>Tasks in memory: </strong> 0\n                        </td>\n                    </tr>\n                    <tr>\n                        <td style=\"text-align: left;\">\n                            <strong>Tasks ready: </strong> 0\n                        </td>\n                        <td style=\"text-align: left;\">\n                            <strong>Tasks in flight: </strong>0\n                        </td>\n                    </tr>\n                    <tr>\n                        <td style=\"text-align: left;\">\n                            <strong>CPU usage:</strong> 0.0%\n                        </td>\n                        <td style=\"text-align: left;\">\n                            <strong>Last seen: </strong> Just now\n                        </td>\n                    </tr>\n                    <tr>\n                        <td style=\"text-align: left;\">\n                            <strong>Memory usage: </strong> 263.24 MiB\n                        </td>\n                        <td style=\"text-align: left;\">\n                            <strong>Spilled bytes: </strong> 0 B\n                        </td>\n                    </tr>\n                    <tr>\n                        <td style=\"text-align: left;\">\n                            <strong>Read bytes: </strong> 328.9006865706325 B\n                        </td>\n                        <td style=\"text-align: left;\">\n                            <strong>Write bytes: </strong> 328.9006865706325 B\n                        </td>\n                    </tr>\n                    \n\n                </table>\n            </details>\n            </div>\n        </div>\n        \n        <div style=\"margin-bottom: 20px;\">\n            <div style=\"width: 24px; height: 24px; background-color: #DBF5FF; border: 3px solid #4CC9FF; border-radius: 5px; position: absolute;\"> </div>\n            <div style=\"margin-left: 48px;\">\n            <details>\n                <summary>\n                    <h4 style=\"margin-bottom: 0px; display: inline;\">Worker: 2</h4>\n                </summary>\n                <table style=\"width: 100%; text-align: left;\">\n                    <tr>\n                        <td style=\"text-align: left;\">\n                            <strong>Comm: </strong> tcp://127.0.0.1:63868\n                        </td>\n                        <td style=\"text-align: left;\">\n                            <strong>Total threads: </strong> 2\n                        </td>\n                    </tr>\n                    <tr>\n                        <td style=\"text-align: left;\">\n                            <strong>Dashboard: </strong> <a href=\"http://127.0.0.1:63869/status\" target=\"_blank\">http://127.0.0.1:63869/status</a>\n                        </td>\n                        <td style=\"text-align: left;\">\n                            <strong>Memory: </strong> 5.31 GiB\n                        </td>\n                    </tr>\n                    <tr>\n                        <td style=\"text-align: left;\">\n                            <strong>Nanny: </strong> tcp://127.0.0.1:63825\n                        </td>\n                        <td style=\"text-align: left;\"></td>\n                    </tr>\n                    <tr>\n                        <td colspan=\"2\" style=\"text-align: left;\">\n                            <strong>Local directory: </strong> C:\\Users\\jhsmi\\pp\\T3SS-paper\\src\\dask-worker-space\\worker-6n_59r62\n                        </td>\n                    </tr>\n\n                    \n\n                    \n                    <tr>\n                        <td style=\"text-align: left;\">\n                            <strong>Tasks executing: </strong> 0\n                        </td>\n                        <td style=\"text-align: left;\">\n                            <strong>Tasks in memory: </strong> 0\n                        </td>\n                    </tr>\n                    <tr>\n                        <td style=\"text-align: left;\">\n                            <strong>Tasks ready: </strong> 0\n                        </td>\n                        <td style=\"text-align: left;\">\n                            <strong>Tasks in flight: </strong>0\n                        </td>\n                    </tr>\n                    <tr>\n                        <td style=\"text-align: left;\">\n                            <strong>CPU usage:</strong> 0.0%\n                        </td>\n                        <td style=\"text-align: left;\">\n                            <strong>Last seen: </strong> Just now\n                        </td>\n                    </tr>\n                    <tr>\n                        <td style=\"text-align: left;\">\n                            <strong>Memory usage: </strong> 309.46 MiB\n                        </td>\n                        <td style=\"text-align: left;\">\n                            <strong>Spilled bytes: </strong> 0 B\n                        </td>\n                    </tr>\n                    <tr>\n                        <td style=\"text-align: left;\">\n                            <strong>Read bytes: </strong> 328.99475658010215 B\n                        </td>\n                        <td style=\"text-align: left;\">\n                            <strong>Write bytes: </strong> 328.99475658010215 B\n                        </td>\n                    </tr>\n                    \n\n                </table>\n            </details>\n            </div>\n        </div>\n        \n        <div style=\"margin-bottom: 20px;\">\n            <div style=\"width: 24px; height: 24px; background-color: #DBF5FF; border: 3px solid #4CC9FF; border-radius: 5px; position: absolute;\"> </div>\n            <div style=\"margin-left: 48px;\">\n            <details>\n                <summary>\n                    <h4 style=\"margin-bottom: 0px; display: inline;\">Worker: 3</h4>\n                </summary>\n                <table style=\"width: 100%; text-align: left;\">\n                    <tr>\n                        <td style=\"text-align: left;\">\n                            <strong>Comm: </strong> tcp://127.0.0.1:63871\n                        </td>\n                        <td style=\"text-align: left;\">\n                            <strong>Total threads: </strong> 2\n                        </td>\n                    </tr>\n                    <tr>\n                        <td style=\"text-align: left;\">\n                            <strong>Dashboard: </strong> <a href=\"http://127.0.0.1:63874/status\" target=\"_blank\">http://127.0.0.1:63874/status</a>\n                        </td>\n                        <td style=\"text-align: left;\">\n                            <strong>Memory: </strong> 5.31 GiB\n                        </td>\n                    </tr>\n                    <tr>\n                        <td style=\"text-align: left;\">\n                            <strong>Nanny: </strong> tcp://127.0.0.1:63823\n                        </td>\n                        <td style=\"text-align: left;\"></td>\n                    </tr>\n                    <tr>\n                        <td colspan=\"2\" style=\"text-align: left;\">\n                            <strong>Local directory: </strong> C:\\Users\\jhsmi\\pp\\T3SS-paper\\src\\dask-worker-space\\worker-_jhjrqa_\n                        </td>\n                    </tr>\n\n                    \n\n                    \n                    <tr>\n                        <td style=\"text-align: left;\">\n                            <strong>Tasks executing: </strong> 0\n                        </td>\n                        <td style=\"text-align: left;\">\n                            <strong>Tasks in memory: </strong> 0\n                        </td>\n                    </tr>\n                    <tr>\n                        <td style=\"text-align: left;\">\n                            <strong>Tasks ready: </strong> 0\n                        </td>\n                        <td style=\"text-align: left;\">\n                            <strong>Tasks in flight: </strong>0\n                        </td>\n                    </tr>\n                    <tr>\n                        <td style=\"text-align: left;\">\n                            <strong>CPU usage:</strong> 0.0%\n                        </td>\n                        <td style=\"text-align: left;\">\n                            <strong>Last seen: </strong> Just now\n                        </td>\n                    </tr>\n                    <tr>\n                        <td style=\"text-align: left;\">\n                            <strong>Memory usage: </strong> 182.34 MiB\n                        </td>\n                        <td style=\"text-align: left;\">\n                            <strong>Spilled bytes: </strong> 0 B\n                        </td>\n                    </tr>\n                    <tr>\n                        <td style=\"text-align: left;\">\n                            <strong>Read bytes: </strong> 328.8475403574142 B\n                        </td>\n                        <td style=\"text-align: left;\">\n                            <strong>Write bytes: </strong> 437.1266085238798 B\n                        </td>\n                    </tr>\n                    \n\n                </table>\n            </details>\n            </div>\n        </div>\n        \n        <div style=\"margin-bottom: 20px;\">\n            <div style=\"width: 24px; height: 24px; background-color: #DBF5FF; border: 3px solid #4CC9FF; border-radius: 5px; position: absolute;\"> </div>\n            <div style=\"margin-left: 48px;\">\n            <details>\n                <summary>\n                    <h4 style=\"margin-bottom: 0px; display: inline;\">Worker: 4</h4>\n                </summary>\n                <table style=\"width: 100%; text-align: left;\">\n                    <tr>\n                        <td style=\"text-align: left;\">\n                            <strong>Comm: </strong> tcp://127.0.0.1:63859\n                        </td>\n                        <td style=\"text-align: left;\">\n                            <strong>Total threads: </strong> 2\n                        </td>\n                    </tr>\n                    <tr>\n                        <td style=\"text-align: left;\">\n                            <strong>Dashboard: </strong> <a href=\"http://127.0.0.1:63860/status\" target=\"_blank\">http://127.0.0.1:63860/status</a>\n                        </td>\n                        <td style=\"text-align: left;\">\n                            <strong>Memory: </strong> 5.31 GiB\n                        </td>\n                    </tr>\n                    <tr>\n                        <td style=\"text-align: left;\">\n                            <strong>Nanny: </strong> tcp://127.0.0.1:63824\n                        </td>\n                        <td style=\"text-align: left;\"></td>\n                    </tr>\n                    <tr>\n                        <td colspan=\"2\" style=\"text-align: left;\">\n                            <strong>Local directory: </strong> C:\\Users\\jhsmi\\pp\\T3SS-paper\\src\\dask-worker-space\\worker-3iciehii\n                        </td>\n                    </tr>\n\n                    \n\n                    \n                    <tr>\n                        <td style=\"text-align: left;\">\n                            <strong>Tasks executing: </strong> 0\n                        </td>\n                        <td style=\"text-align: left;\">\n                            <strong>Tasks in memory: </strong> 0\n                        </td>\n                    </tr>\n                    <tr>\n                        <td style=\"text-align: left;\">\n                            <strong>Tasks ready: </strong> 0\n                        </td>\n                        <td style=\"text-align: left;\">\n                            <strong>Tasks in flight: </strong>0\n                        </td>\n                    </tr>\n                    <tr>\n                        <td style=\"text-align: left;\">\n                            <strong>CPU usage:</strong> 0.0%\n                        </td>\n                        <td style=\"text-align: left;\">\n                            <strong>Last seen: </strong> Just now\n                        </td>\n                    </tr>\n                    <tr>\n                        <td style=\"text-align: left;\">\n                            <strong>Memory usage: </strong> 259.57 MiB\n                        </td>\n                        <td style=\"text-align: left;\">\n                            <strong>Spilled bytes: </strong> 0 B\n                        </td>\n                    </tr>\n                    <tr>\n                        <td style=\"text-align: left;\">\n                            <strong>Read bytes: </strong> 0.0 B\n                        </td>\n                        <td style=\"text-align: left;\">\n                            <strong>Write bytes: </strong> 0.0 B\n                        </td>\n                    </tr>\n                    \n\n                </table>\n            </details>\n            </div>\n        </div>\n        \n        <div style=\"margin-bottom: 20px;\">\n            <div style=\"width: 24px; height: 24px; background-color: #DBF5FF; border: 3px solid #4CC9FF; border-radius: 5px; position: absolute;\"> </div>\n            <div style=\"margin-left: 48px;\">\n            <details>\n                <summary>\n                    <h4 style=\"margin-bottom: 0px; display: inline;\">Worker: 5</h4>\n                </summary>\n                <table style=\"width: 100%; text-align: left;\">\n                    <tr>\n                        <td style=\"text-align: left;\">\n                            <strong>Comm: </strong> tcp://127.0.0.1:63872\n                        </td>\n                        <td style=\"text-align: left;\">\n                            <strong>Total threads: </strong> 2\n                        </td>\n                    </tr>\n                    <tr>\n                        <td style=\"text-align: left;\">\n                            <strong>Dashboard: </strong> <a href=\"http://127.0.0.1:63873/status\" target=\"_blank\">http://127.0.0.1:63873/status</a>\n                        </td>\n                        <td style=\"text-align: left;\">\n                            <strong>Memory: </strong> 5.31 GiB\n                        </td>\n                    </tr>\n                    <tr>\n                        <td style=\"text-align: left;\">\n                            <strong>Nanny: </strong> tcp://127.0.0.1:63826\n                        </td>\n                        <td style=\"text-align: left;\"></td>\n                    </tr>\n                    <tr>\n                        <td colspan=\"2\" style=\"text-align: left;\">\n                            <strong>Local directory: </strong> C:\\Users\\jhsmi\\pp\\T3SS-paper\\src\\dask-worker-space\\worker-pymtyju7\n                        </td>\n                    </tr>\n\n                    \n\n                    \n                    <tr>\n                        <td style=\"text-align: left;\">\n                            <strong>Tasks executing: </strong> 0\n                        </td>\n                        <td style=\"text-align: left;\">\n                            <strong>Tasks in memory: </strong> 0\n                        </td>\n                    </tr>\n                    <tr>\n                        <td style=\"text-align: left;\">\n                            <strong>Tasks ready: </strong> 0\n                        </td>\n                        <td style=\"text-align: left;\">\n                            <strong>Tasks in flight: </strong>0\n                        </td>\n                    </tr>\n                    <tr>\n                        <td style=\"text-align: left;\">\n                            <strong>CPU usage:</strong> 0.0%\n                        </td>\n                        <td style=\"text-align: left;\">\n                            <strong>Last seen: </strong> Just now\n                        </td>\n                    </tr>\n                    <tr>\n                        <td style=\"text-align: left;\">\n                            <strong>Memory usage: </strong> 149.47 MiB\n                        </td>\n                        <td style=\"text-align: left;\">\n                            <strong>Spilled bytes: </strong> 0 B\n                        </td>\n                    </tr>\n                    <tr>\n                        <td style=\"text-align: left;\">\n                            <strong>Read bytes: </strong> 328.9334004717863 B\n                        </td>\n                        <td style=\"text-align: left;\">\n                            <strong>Write bytes: </strong> 437.2407396515208 B\n                        </td>\n                    </tr>\n                    \n\n                </table>\n            </details>\n            </div>\n        </div>\n        \n\n    </details>\n</div>\n            </details>\n        \n\n    </div>\n</div>"
     },
     "execution_count": 2,
     "metadata": {},
     "output_type": "execute_result"
    }
   ],
   "source": [
    "client = Client('127.0.0.1:8786')\n",
    "client"
   ],
   "metadata": {
    "collapsed": false,
    "pycharm": {
     "name": "#%%\n"
    }
   }
  },
  {
   "cell_type": "code",
   "execution_count": 22,
   "outputs": [],
   "source": [
    "cell_dict = load_dirs_to_dict('../data/root_20191213', client, regex='filtered')"
   ],
   "metadata": {
    "collapsed": false,
    "pycharm": {
     "name": "#%%\n"
    }
   }
  },
  {
   "cell_type": "code",
   "execution_count": 23,
   "outputs": [],
   "source": [
    "CellMeasurement = namedtuple('SpotsMeasurement', ['cells', 'path', 'arr'])"
   ],
   "metadata": {
    "collapsed": false,
    "pycharm": {
     "name": "#%%\n"
    }
   }
  },
  {
   "cell_type": "code",
   "execution_count": 24,
   "outputs": [
    {
     "name": "stdout",
     "output_type": "stream",
     "text": [
      "['root', 'aht20', '20190930'] c41_filtered\n",
      "['root', 'aht20', '20190930'] epec_filtered\n",
      "['root', 'aht20', '20191001'] c41_filtered\n",
      "['root', 'aht20', '20191001'] epec_filtered\n",
      "['root', 'aht20', '20191002_03'] c41_filtered\n",
      "['root', 'aht20', '20191002_03'] epec_filtered\n",
      "['root', 'aht20', '20191002_04'] c41_filtered\n",
      "['root', 'aht20', '20191002_04'] epec_filtered\n",
      "['root', 'aht20', '20191002_04'] escc_filtered\n",
      "['root', 'aht20', '20191023'] c41_filtered\n",
      "['root', 'aht25', '20191010_01'] c41_filtered\n",
      "['root', 'aht25', '20191010_02'] c41_filtered\n",
      "['root', 'aht25', '20191010_03'] c41_filtered\n",
      "['root', 'aht25', '20191023'] c41_filtered\n",
      "['root', 'aht30', '20191005_02'] c41_filtered\n",
      "['root', 'aht30', '20191005_03'] c41_filtered\n",
      "['root', 'aht30', '20191009_01'] c41_filtered\n",
      "['root', 'aht30', '20191009_02'] c41_filtered\n",
      "['root', 'aht30', '20191022'] epec_filtered\n",
      "['root', 'aht40', '20191004_02'] c41_filtered\n",
      "['root', 'aht40', '20191004_03'] c41_filtered\n"
     ]
    }
   ],
   "source": [
    "# Iterate through the data and determine fluorescence intensity and number of spots\n",
    "def r_dict(d, d_out, path):\n",
    "    pth = os.path.join(*path)\n",
    "    if not os.path.exists(pth):\n",
    "        os.mkdir(pth)\n",
    "    for k, v in d.items():\n",
    "        if isinstance(v, Dict):\n",
    "            r_dict(v, d_out, path + [k])\n",
    "        else:\n",
    "            print(path, k)\n",
    "            intensity = v.get_intensity()\n",
    "            spots = np.array([len(c.data.data_dict['storm_thd_7500']) for c in v])\n",
    "\n",
    "            arr = np.dstack([intensity, spots])\n",
    "\n",
    "            sm = CellMeasurement(arr=arr, path=path[1:], cells=v)\n",
    "            parent = reduce(operator.getitem, path[1:], d_out)\n",
    "            parent[k] = sm\n",
    "\n",
    "big_dict = Dict()\n",
    "r_dict(cell_dict, big_dict, ['root'])"
   ],
   "metadata": {
    "collapsed": false,
    "pycharm": {
     "name": "#%%\n"
    }
   }
  },
  {
   "cell_type": "code",
   "execution_count": 25,
   "outputs": [],
   "source": [
    "def yield_class(d):\n",
    "    for k, v in d.items():\n",
    "        if isinstance(v, Dict):\n",
    "            yield from yield_class(v)\n",
    "        else:\n",
    "            yield (k, v)"
   ],
   "metadata": {
    "collapsed": false,
    "pycharm": {
     "name": "#%%\n"
    }
   }
  },
  {
   "cell_type": "code",
   "execution_count": 26,
   "outputs": [],
   "source": [
    "def check_int(v):\n",
    "    i, s = v.arr.squeeze().T\n",
    "    if (i.mean() > 750) and (i.mean() < 2400):\n",
    "        return True\n",
    "    else:\n",
    "        return False"
   ],
   "metadata": {
    "collapsed": false,
    "pycharm": {
     "name": "#%%\n"
    }
   }
  },
  {
   "cell_type": "code",
   "execution_count": 27,
   "outputs": [],
   "source": [
    "SC = Dict()\n",
    "for k, v in yield_class(big_dict):\n",
    "    if k.startswith('escc'):\n",
    "        continue\n",
    "    data = v.arr.squeeze()\n",
    "    path = v.path\n",
    "    cells = v.cells\n",
    "    identifier = '_'.join(path) + '_' + k\n",
    "    d = SC[identifier]\n",
    "    d['arr'] = data\n",
    "    d['path'] = path\n",
    "    d['cells'] = cells\n",
    "    d['name'] = k\n"
   ],
   "metadata": {
    "collapsed": false,
    "pycharm": {
     "name": "#%%\n"
    }
   }
  },
  {
   "cell_type": "code",
   "execution_count": 31,
   "outputs": [
    {
     "name": "stdout",
     "output_type": "stream",
     "text": [
      "aht20_20190930_epec_filtered\n",
      "aht20_20191001_epec_filtered\n",
      "aht20_20191002_03_epec_filtered\n",
      "aht20_20191002_04_epec_filtered\n",
      "aht20_20191023_c41_filtered\n",
      "aht25_20191010_01_c41_filtered\n",
      "aht25_20191010_02_c41_filtered\n",
      "aht25_20191010_03_c41_filtered\n",
      "aht25_20191023_c41_filtered\n",
      "aht30_20191005_02_c41_filtered\n",
      "aht30_20191009_01_c41_filtered\n",
      "aht30_20191009_02_c41_filtered\n",
      "aht30_20191022_epec_filtered\n"
     ]
    }
   ],
   "source": [
    "dd = {k: v for k, v in SC.items() if check_int(v)}\n",
    "for k in dd.keys():\n",
    "    print(k)"
   ],
   "metadata": {
    "collapsed": false,
    "pycharm": {
     "name": "#%%\n"
    }
   }
  },
  {
   "cell_type": "markdown",
   "source": [
    "# Peakfinding"
   ],
   "metadata": {
    "collapsed": false
   }
  },
  {
   "cell_type": "code",
   "execution_count": null,
   "outputs": [],
   "source": [
    "storm_dtype = [('x', float), ('y', float), ('intensity', float), ('frame', int)]\n",
    "def add_peakfind(cell, med=5, thd=7500, min_dst=5):\n",
    "    \"\"\"Add a storm dataset to the cell with locations of fluorescence peaks\"\"\"\n",
    "    img = cell.data.data_dict['g500']\n",
    "    mf = medfilt(img, med)\n",
    "    img_bg = img - mf\n",
    "    cell.data.add_data(img_bg, 'fluorescence', 'flu_mf_{}'.format(med))\n",
    "\n",
    "    peaks = peak_local_max(img_bg, min_distance=min_dst, threshold_abs=thd)\n",
    "    y, x = peaks.T\n",
    "\n",
    "    new_storm = np.empty(len(x), dtype=storm_dtype)\n",
    "    new_storm['x'] = x\n",
    "    new_storm['y'] = y\n",
    "    new_storm['intensity'] = np.ones_like(x)\n",
    "    new_storm['frame'] = np.ones_like(x)\n",
    "\n",
    "    cell.data.add_data(new_storm, 'storm', 'new_thd_{}'.format(thd))"
   ],
   "metadata": {
    "collapsed": false,
    "pycharm": {
     "name": "#%%\n"
    }
   }
  },
  {
   "cell_type": "code",
   "execution_count": null,
   "outputs": [],
   "source": [
    "peak_cells = {}\n",
    "for k, v in dd.items():\n",
    "    print(k)\n",
    "    cells = v.cells.copy()\n",
    "    _ = [add_peakfind(c) for c in cells]\n",
    "    peak_cells[k] = cells"
   ],
   "metadata": {
    "collapsed": false,
    "pycharm": {
     "name": "#%%\n"
    }
   }
  },
  {
   "cell_type": "code",
   "execution_count": null,
   "outputs": [],
   "source": [
    "for k, v in peak_cells.items():\n",
    "    save('../data/final_cells/' +  k + '.hdf5', v)"
   ],
   "metadata": {
    "collapsed": false,
    "pycharm": {
     "name": "#%%\n"
    }
   }
  }
 ],
 "metadata": {
  "kernelspec": {
   "display_name": "Python 3",
   "language": "python",
   "name": "python3"
  },
  "language_info": {
   "codemirror_mode": {
    "name": "ipython",
    "version": 2
   },
   "file_extension": ".py",
   "mimetype": "text/x-python",
   "name": "python",
   "nbconvert_exporter": "python",
   "pygments_lexer": "ipython2",
   "version": "2.7.6"
  }
 },
 "nbformat": 4,
 "nbformat_minor": 0
}